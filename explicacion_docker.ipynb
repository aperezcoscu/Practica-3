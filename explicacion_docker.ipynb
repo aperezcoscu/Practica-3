{
 "cells": [
  {
   "cell_type": "markdown",
   "metadata": {},
   "source": [
    "**Imagen a Docker**"
   ]
  },
  {
   "cell_type": "markdown",
   "metadata": {},
   "source": [
    "Crear imagen Docker: docker build -t nombre-de-tu-imagen .\n",
    "\n",
    "Nombre repo ECR: docker tag nombre_imagen_docker:latest 975050217121.dkr.ecr.eu-west-3.amazonaws.com/repositorio:latest\n",
    "\n",
    "docker tag lambda_vol:latest 975050217121.dkr.ecr.eu-west-3.amazonaws.com/volatility_ecr:latest"
   ]
  },
  {
   "cell_type": "markdown",
   "metadata": {},
   "source": []
  },
  {
   "cell_type": "markdown",
   "metadata": {},
   "source": []
  },
  {
   "cell_type": "markdown",
   "metadata": {},
   "source": []
  },
  {
   "cell_type": "markdown",
   "metadata": {},
   "source": []
  }
 ],
 "metadata": {
  "language_info": {
   "name": "python"
  }
 },
 "nbformat": 4,
 "nbformat_minor": 2
}
