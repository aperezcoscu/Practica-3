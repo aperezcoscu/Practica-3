{
 "cells": [
  {
   "cell_type": "code",
   "execution_count": 148,
   "metadata": {},
   "outputs": [],
   "source": [
    "from bs4 import BeautifulSoup\n",
    "import pandas as pd\n",
    "import requests\n",
    "import locale\n",
    "import mibian"
   ]
  },
  {
   "cell_type": "code",
   "execution_count": 2,
   "metadata": {},
   "outputs": [],
   "source": [
    "# URL de la página a hacer scraping\n",
    "url = 'https://www.meff.es/esp/Derivados-Financieros/Ficha/FIEM_MiniIbex_35'\n",
    "\n",
    "# Realizar la petición HTTP GET a la página\n",
    "response = requests.get(url)"
   ]
  },
  {
   "cell_type": "code",
   "execution_count": 3,
   "metadata": {},
   "outputs": [],
   "source": [
    "def obtener_dataframe(response, tipo_tabla):\n",
    "    \"\"\"\n",
    "    Realiza el web scraping y devuelve un dataframe con los datos obtenidos,\n",
    "    dependiendo si el tipo de tabla es 'opciones' o 'futuros'.\n",
    "    \n",
    "    Args:\n",
    "    - response: La respuesta HTTP obtenida.\n",
    "    - tipo_tabla: Tipo de la tabla a buscar ('opciones' o 'futuros').\n",
    "    \n",
    "    Returns:\n",
    "    - Un dataframe con los datos de la tabla.\n",
    "    \"\"\"\n",
    "    # Determinar el ID de la tabla y si se necesita manejar el atributo data-tipo\n",
    "    if tipo_tabla == 'opciones':\n",
    "        id_tabla = 'tblOpciones'\n",
    "        es_opcion = True\n",
    "    elif tipo_tabla == 'futuros':\n",
    "        id_tabla = 'Contenido_Contenido_tblFuturos'\n",
    "        es_opcion = False\n",
    "    else:\n",
    "        print(\"Tipo de tabla no soportado.\")\n",
    "        return pd.DataFrame()\n",
    "    \n",
    "    if response.status_code == 200:\n",
    "        soup = BeautifulSoup(response.content, 'html.parser')\n",
    "        table = soup.find('table', id=id_tabla)\n",
    "        all_rows_data = []\n",
    "        \n",
    "        if table:\n",
    "            rows = table.find_all('tr', class_='text-right')\n",
    "            \n",
    "            for row in rows:\n",
    "                cells = row.find_all('td')\n",
    "                row_data = [cell.text.strip() for cell in cells]\n",
    "                \n",
    "                if es_opcion:\n",
    "                    data_tipo = row.get('data-tipo', 'No especificado')\n",
    "                    row_data.insert(0, data_tipo)\n",
    "                    \n",
    "                all_rows_data.append(row_data)\n",
    "                \n",
    "            return pd.DataFrame(all_rows_data)\n",
    "        else:\n",
    "            print('No se encontró la tabla con el id especificado.')\n",
    "            return pd.DataFrame()\n",
    "    else:\n",
    "        print('Error al realizar la petición HTTP:', response.status_code)\n",
    "        return pd.DataFrame()"
   ]
  },
  {
   "cell_type": "code",
   "execution_count": 99,
   "metadata": {},
   "outputs": [],
   "source": [
    "def tratar_dataframe(df, tipo_tabla):\n",
    "    \"\"\"\n",
    "    Transforma el dataframe según si es de opciones o de futuros.\n",
    "    \n",
    "    Args:\n",
    "    - df: Dataframe a transformar.\n",
    "    - tipo_tabla: Tipo de la tabla ('opciones' o 'futuros').\n",
    "    \n",
    "    Returns:\n",
    "    - Un dataframe transformado.\n",
    "    \"\"\"\n",
    "    if tipo_tabla == 'opciones':\n",
    "        # Especificar los nombres de columna para opciones\n",
    "        df.columns = ['Class', 'Strike', 'Buy_ord', 'Buy_vol', 'Buy_price', 'Sell_price', 'Sell_vol', 'Sell_ord', 'Ult', 'Vol', 'Aper', 'Max.', 'Min.','Ant']\n",
    "        df['Tipo'] = df['Class'].str[:3]\n",
    "        df['Fecha'] = pd.to_datetime(df['Class'].str[3:], format='%Y%m%d').dt.strftime('%d-%m-%Y')\n",
    "        df = df.drop(['Class'], axis=1)\n",
    "        \n",
    "        # Transformaciones adicionales para opciones\n",
    "        df['Strike'] = df['Strike'].str.replace('.', '').str.replace(',', '.').astype(float)\n",
    "        df['Ant'] = pd.to_numeric(df['Ant'].str.replace('.', '').str.replace(',', '.'), errors='coerce')\n",
    "        df['Fecha'] = pd.to_datetime(df['Fecha'], format='%d-%m-%Y')\n",
    "        \n",
    "        # Seleccionando solo las columnas deseadas para opciones\n",
    "        df = df.loc[:, ['Tipo', 'Fecha', 'Strike', 'Ant']]\n",
    "        \n",
    "    elif tipo_tabla == 'futuros':\n",
    "        # Especificar los nombres de columna para futuros\n",
    "        df.columns = ['Vencimiento', 'Tipo', 'Buy_ord', 'Buy_vol', 'Buy_price', 'Sell_price', 'Sell_vol', 'Sell_ord', 'Ult', 'Vol', 'Aper', 'Max.', 'Min.','Ant']\n",
    "        \n",
    "        # Configurar locale a español\n",
    "        locale.setlocale(locale.LC_TIME, 'es_ES.UTF-8' if locale.windows_locale is None else 'Spanish')\n",
    "        df['Vencimiento'] = pd.to_datetime(df['Vencimiento'], format='%d %b %Y')\n",
    "        df['Ant'] = pd.to_numeric(df['Ant'].str.replace('.', '').str.replace(',', '.'), errors='coerce')\n",
    "        \n",
    "        # Seleccionando solo las columnas deseadas para futuros\n",
    "        df = df.loc[:, ['Vencimiento', 'Ant']]\n",
    "        \n",
    "    else:\n",
    "        print(\"Tipo de tabla no soportado.\")\n",
    "        return pd.DataFrame()\n",
    "    \n",
    "    return df"
   ]
  },
  {
   "cell_type": "code",
   "execution_count": 106,
   "metadata": {},
   "outputs": [],
   "source": [
    "# Opciones\n",
    "df_opciones = obtener_dataframe(response, 'opciones')\n",
    "df_opciones = tratar_dataframe(df_opciones, 'opciones')"
   ]
  },
  {
   "cell_type": "code",
   "execution_count": 101,
   "metadata": {},
   "outputs": [],
   "source": [
    "# Futuros\n",
    "df_futuros = obtener_dataframe(response, 'futuros')\n",
    "df_futuros = tratar_dataframe(df_futuros, 'futuros')"
   ]
  },
  {
   "cell_type": "code",
   "execution_count": 110,
   "metadata": {},
   "outputs": [],
   "source": [
    "# Filtrar para obtener solo las opciones de compra (calls) y de venta (puts)\n",
    "df_calls = df_opciones[df_opciones['Tipo'] == 'OCE']\n",
    "df_puts = df_opciones[df_opciones['Tipo'] == 'OPE']\n",
    "\n",
    "# Crear un diccionario donde cada fecha es una clave y el valor es el DataFrame correspondiente\n",
    "calls_por_fecha = {fecha: grupo for fecha, grupo in df_calls.groupby('Fecha')}\n",
    "puts_por_fecha = {fecha: grupo for fecha, grupo in df_puts.groupby('Fecha')}\n",
    "\n",
    "# Incluir estos diccionarios bajo las claves 'Call' y 'Put' en el diccionario 'resultados'\n",
    "resultados = {\n",
    "    'Call': calls_por_fecha,\n",
    "    'Put': puts_por_fecha\n",
    "}\n"
   ]
  },
  {
   "cell_type": "code",
   "execution_count": 116,
   "metadata": {},
   "outputs": [
    {
     "data": {
      "text/html": [
       "<div>\n",
       "<style scoped>\n",
       "    .dataframe tbody tr th:only-of-type {\n",
       "        vertical-align: middle;\n",
       "    }\n",
       "\n",
       "    .dataframe tbody tr th {\n",
       "        vertical-align: top;\n",
       "    }\n",
       "\n",
       "    .dataframe thead th {\n",
       "        text-align: right;\n",
       "    }\n",
       "</style>\n",
       "<table border=\"1\" class=\"dataframe\">\n",
       "  <thead>\n",
       "    <tr style=\"text-align: right;\">\n",
       "      <th></th>\n",
       "      <th>Vencimiento</th>\n",
       "      <th>Ant</th>\n",
       "    </tr>\n",
       "  </thead>\n",
       "  <tbody>\n",
       "    <tr>\n",
       "      <th>0</th>\n",
       "      <td>2024-04-19</td>\n",
       "      <td>10523.7</td>\n",
       "    </tr>\n",
       "    <tr>\n",
       "      <th>1</th>\n",
       "      <td>2024-05-17</td>\n",
       "      <td>10489.0</td>\n",
       "    </tr>\n",
       "    <tr>\n",
       "      <th>2</th>\n",
       "      <td>2024-06-21</td>\n",
       "      <td>10496.0</td>\n",
       "    </tr>\n",
       "  </tbody>\n",
       "</table>\n",
       "</div>"
      ],
      "text/plain": [
       "  Vencimiento      Ant\n",
       "0  2024-04-19  10523.7\n",
       "1  2024-05-17  10489.0\n",
       "2  2024-06-21  10496.0"
      ]
     },
     "execution_count": 116,
     "metadata": {},
     "output_type": "execute_result"
    }
   ],
   "source": [
    "df_futuros"
   ]
  },
  {
   "cell_type": "code",
   "execution_count": 118,
   "metadata": {},
   "outputs": [],
   "source": [
    "price_sub = df_futuros.loc[0, 'Ant']\n",
    "rfr = 0\n",
    "\n",
    "dia_futuro = df_futuros.loc[0, 'Vencimiento']"
   ]
  },
  {
   "cell_type": "code",
   "execution_count": 119,
   "metadata": {},
   "outputs": [
    {
     "data": {
      "text/plain": [
       "Timestamp('2024-04-19 00:00:00')"
      ]
     },
     "execution_count": 119,
     "metadata": {},
     "output_type": "execute_result"
    }
   ],
   "source": [
    "dia_futuro"
   ]
  },
  {
   "cell_type": "code",
   "execution_count": 134,
   "metadata": {},
   "outputs": [
    {
     "data": {
      "text/plain": [
       "[Timestamp('2024-04-19 00:00:00'),\n",
       " Timestamp('2024-04-26 00:00:00'),\n",
       " Timestamp('2024-05-03 00:00:00'),\n",
       " Timestamp('2024-05-10 00:00:00'),\n",
       " Timestamp('2024-05-17 00:00:00'),\n",
       " Timestamp('2024-06-21 00:00:00'),\n",
       " Timestamp('2024-09-20 00:00:00'),\n",
       " Timestamp('2024-12-20 00:00:00'),\n",
       " Timestamp('2025-03-21 00:00:00'),\n",
       " Timestamp('2025-06-20 00:00:00'),\n",
       " Timestamp('2025-09-19 00:00:00'),\n",
       " Timestamp('2025-12-19 00:00:00'),\n",
       " Timestamp('2026-03-20 00:00:00'),\n",
       " Timestamp('2026-06-19 00:00:00')]"
      ]
     },
     "execution_count": 134,
     "metadata": {},
     "output_type": "execute_result"
    }
   ],
   "source": [
    "fechas = [dia for dia in resultados['Call'].keys()]"
   ]
  },
  {
   "cell_type": "code",
   "execution_count": 154,
   "metadata": {},
   "outputs": [
    {
     "data": {
      "text/html": [
       "<div>\n",
       "<style scoped>\n",
       "    .dataframe tbody tr th:only-of-type {\n",
       "        vertical-align: middle;\n",
       "    }\n",
       "\n",
       "    .dataframe tbody tr th {\n",
       "        vertical-align: top;\n",
       "    }\n",
       "\n",
       "    .dataframe thead th {\n",
       "        text-align: right;\n",
       "    }\n",
       "</style>\n",
       "<table border=\"1\" class=\"dataframe\">\n",
       "  <thead>\n",
       "    <tr style=\"text-align: right;\">\n",
       "      <th></th>\n",
       "      <th>Tipo</th>\n",
       "      <th>Fecha</th>\n",
       "      <th>Strike</th>\n",
       "      <th>Ant</th>\n",
       "    </tr>\n",
       "  </thead>\n",
       "  <tbody>\n",
       "    <tr>\n",
       "      <th>1</th>\n",
       "      <td>OCE</td>\n",
       "      <td>2024-04-19</td>\n",
       "      <td>8400.0</td>\n",
       "      <td>2123.0</td>\n",
       "    </tr>\n",
       "    <tr>\n",
       "      <th>2</th>\n",
       "      <td>OCE</td>\n",
       "      <td>2024-04-19</td>\n",
       "      <td>8500.0</td>\n",
       "      <td>2023.0</td>\n",
       "    </tr>\n",
       "    <tr>\n",
       "      <th>5</th>\n",
       "      <td>OCE</td>\n",
       "      <td>2024-04-19</td>\n",
       "      <td>8600.0</td>\n",
       "      <td>1923.0</td>\n",
       "    </tr>\n",
       "    <tr>\n",
       "      <th>6</th>\n",
       "      <td>OCE</td>\n",
       "      <td>2024-04-19</td>\n",
       "      <td>8700.0</td>\n",
       "      <td>1823.0</td>\n",
       "    </tr>\n",
       "    <tr>\n",
       "      <th>9</th>\n",
       "      <td>OCE</td>\n",
       "      <td>2024-04-19</td>\n",
       "      <td>8800.0</td>\n",
       "      <td>1723.0</td>\n",
       "    </tr>\n",
       "    <tr>\n",
       "      <th>...</th>\n",
       "      <td>...</td>\n",
       "      <td>...</td>\n",
       "      <td>...</td>\n",
       "      <td>...</td>\n",
       "    </tr>\n",
       "    <tr>\n",
       "      <th>1240</th>\n",
       "      <td>OCE</td>\n",
       "      <td>2026-06-19</td>\n",
       "      <td>10700.0</td>\n",
       "      <td>792.0</td>\n",
       "    </tr>\n",
       "    <tr>\n",
       "      <th>1241</th>\n",
       "      <td>OCE</td>\n",
       "      <td>2026-06-19</td>\n",
       "      <td>10800.0</td>\n",
       "      <td>751.0</td>\n",
       "    </tr>\n",
       "    <tr>\n",
       "      <th>1244</th>\n",
       "      <td>OCE</td>\n",
       "      <td>2026-06-19</td>\n",
       "      <td>10900.0</td>\n",
       "      <td>711.0</td>\n",
       "    </tr>\n",
       "    <tr>\n",
       "      <th>1245</th>\n",
       "      <td>OCE</td>\n",
       "      <td>2026-06-19</td>\n",
       "      <td>11000.0</td>\n",
       "      <td>673.0</td>\n",
       "    </tr>\n",
       "    <tr>\n",
       "      <th>1247</th>\n",
       "      <td>OCE</td>\n",
       "      <td>2026-06-19</td>\n",
       "      <td>11100.0</td>\n",
       "      <td>635.0</td>\n",
       "    </tr>\n",
       "  </tbody>\n",
       "</table>\n",
       "<p>605 rows × 4 columns</p>\n",
       "</div>"
      ],
      "text/plain": [
       "     Tipo      Fecha   Strike     Ant\n",
       "1     OCE 2024-04-19   8400.0  2123.0\n",
       "2     OCE 2024-04-19   8500.0  2023.0\n",
       "5     OCE 2024-04-19   8600.0  1923.0\n",
       "6     OCE 2024-04-19   8700.0  1823.0\n",
       "9     OCE 2024-04-19   8800.0  1723.0\n",
       "...   ...        ...      ...     ...\n",
       "1240  OCE 2026-06-19  10700.0   792.0\n",
       "1241  OCE 2026-06-19  10800.0   751.0\n",
       "1244  OCE 2026-06-19  10900.0   711.0\n",
       "1245  OCE 2026-06-19  11000.0   673.0\n",
       "1247  OCE 2026-06-19  11100.0   635.0\n",
       "\n",
       "[605 rows x 4 columns]"
      ]
     },
     "execution_count": 154,
     "metadata": {},
     "output_type": "execute_result"
    }
   ],
   "source": [
    "df_calls"
   ]
  },
  {
   "cell_type": "code",
   "execution_count": 165,
   "metadata": {},
   "outputs": [
    {
     "name": "stdout",
     "output_type": "stream",
     "text": [
      "Ya es diferente\n",
      "Tipo                      OCE\n",
      "Fecha     2024-04-26 00:00:00\n",
      "Strike                 9000.0\n",
      "Ant                    1530.0\n",
      "Name: 195, dtype: object\n"
     ]
    }
   ],
   "source": [
    "for index, row in df_calls.iterrows():\n",
    "    if dia_futuro == row['Fecha']:\n",
    "        continue\n",
    "    \n",
    "    else:\n",
    "        print('Ya es diferente')\n",
    "        print(row)\n",
    "    break"
   ]
  },
  {
   "cell_type": "markdown",
   "metadata": {},
   "source": [
    "#### **Función de mibian.BS**\n",
    "\n",
    "Dataframe opciones: Strike, Precio de la opción y la fecha.\n",
    "\n",
    "Dataframe futuros: underlying price (subyacente) y fecha\n",
    "\n",
    " - **underlying_price:** Precio subyacente, es el precio del futuro MINI IBEX al vencimiento más próximo.\n",
    " \n",
    " - **call price:** Es el precio de la opción, columna 'ANT'\n",
    "\n",
    " - **interest rate:** 0\n",
    "\n",
    " - **days to expiration:** Diferencia entre la fecha actual y la de vencimiento"
   ]
  },
  {
   "cell_type": "code",
   "execution_count": 151,
   "metadata": {},
   "outputs": [
    {
     "ename": "ZeroDivisionError",
     "evalue": "float division by zero",
     "output_type": "error",
     "traceback": [
      "\u001b[1;31m---------------------------------------------------------------------------\u001b[0m",
      "\u001b[1;31mZeroDivisionError\u001b[0m                         Traceback (most recent call last)",
      "Cell \u001b[1;32mIn[151], line 9\u001b[0m\n\u001b[0;32m      6\u001b[0m call_price \u001b[38;5;241m=\u001b[39m \u001b[38;5;241m0.0359\u001b[39m\n\u001b[0;32m      8\u001b[0m \u001b[38;5;66;03m# Creamos un objeto para la opción de compra (call option)\u001b[39;00m\n\u001b[1;32m----> 9\u001b[0m c \u001b[38;5;241m=\u001b[39m mibian\u001b[38;5;241m.\u001b[39mBS([underlying_price, strike_price, interest_rate, days_to_expiration], callPrice\u001b[38;5;241m=\u001b[39mcall_price)\n\u001b[0;32m     11\u001b[0m \u001b[38;5;66;03m# Obtenemos la volatilidad implícita de la opción de compra\u001b[39;00m\n\u001b[0;32m     12\u001b[0m implied_volatility \u001b[38;5;241m=\u001b[39m c\u001b[38;5;241m.\u001b[39mimpliedVolatility\n",
      "File \u001b[1;32mc:\\Users\\Adrian\\anaconda3\\Lib\\site-packages\\mibian\\__init__.py:288\u001b[0m, in \u001b[0;36mBS.__init__\u001b[1;34m(self, args, volatility, callPrice, putPrice, performance)\u001b[0m\n\u001b[0;32m    286\u001b[0m \u001b[38;5;28;01mif\u001b[39;00m callPrice:\n\u001b[0;32m    287\u001b[0m \t\u001b[38;5;28mself\u001b[39m\u001b[38;5;241m.\u001b[39mcallPrice \u001b[38;5;241m=\u001b[39m \u001b[38;5;28mround\u001b[39m(\u001b[38;5;28mfloat\u001b[39m(callPrice), \u001b[38;5;241m6\u001b[39m)\n\u001b[1;32m--> 288\u001b[0m \t\u001b[38;5;28mself\u001b[39m\u001b[38;5;241m.\u001b[39mimpliedVolatility \u001b[38;5;241m=\u001b[39m impliedVolatility(\\\n\u001b[0;32m    289\u001b[0m \t\t\t\u001b[38;5;28mself\u001b[39m\u001b[38;5;241m.\u001b[39m\u001b[38;5;18m__class__\u001b[39m\u001b[38;5;241m.\u001b[39m\u001b[38;5;18m__name__\u001b[39m, args, callPrice\u001b[38;5;241m=\u001b[39m\u001b[38;5;28mself\u001b[39m\u001b[38;5;241m.\u001b[39mcallPrice)\n\u001b[0;32m    290\u001b[0m \u001b[38;5;28;01mif\u001b[39;00m putPrice \u001b[38;5;129;01mand\u001b[39;00m \u001b[38;5;129;01mnot\u001b[39;00m callPrice:\n\u001b[0;32m    291\u001b[0m \t\u001b[38;5;28mself\u001b[39m\u001b[38;5;241m.\u001b[39mputPrice \u001b[38;5;241m=\u001b[39m \u001b[38;5;28mround\u001b[39m(\u001b[38;5;28mfloat\u001b[39m(putPrice), \u001b[38;5;241m6\u001b[39m)\n",
      "File \u001b[1;32mc:\\Users\\Adrian\\anaconda3\\Lib\\site-packages\\mibian\\__init__.py:27\u001b[0m, in \u001b[0;36mimpliedVolatility\u001b[1;34m(className, args, callPrice, putPrice, high, low)\u001b[0m\n\u001b[0;32m     25\u001b[0m \tmid \u001b[38;5;241m=\u001b[39m \u001b[38;5;241m0.00001\u001b[39m\n\u001b[0;32m     26\u001b[0m \u001b[38;5;28;01mif\u001b[39;00m callPrice:\n\u001b[1;32m---> 27\u001b[0m \testimate \u001b[38;5;241m=\u001b[39m \u001b[38;5;28meval\u001b[39m(className)(args, volatility\u001b[38;5;241m=\u001b[39mmid, performance\u001b[38;5;241m=\u001b[39m\u001b[38;5;28;01mTrue\u001b[39;00m)\u001b[38;5;241m.\u001b[39mcallPrice\n\u001b[0;32m     28\u001b[0m \u001b[38;5;28;01mif\u001b[39;00m putPrice:\n\u001b[0;32m     29\u001b[0m \testimate \u001b[38;5;241m=\u001b[39m \u001b[38;5;28meval\u001b[39m(className)(args, volatility\u001b[38;5;241m=\u001b[39mmid, performance\u001b[38;5;241m=\u001b[39m\u001b[38;5;28;01mTrue\u001b[39;00m)\u001b[38;5;241m.\u001b[39mputPrice\n",
      "File \u001b[1;32mc:\\Users\\Adrian\\anaconda3\\Lib\\site-packages\\mibian\\__init__.py:271\u001b[0m, in \u001b[0;36mBS.__init__\u001b[1;34m(self, args, volatility, callPrice, putPrice, performance)\u001b[0m\n\u001b[0;32m    268\u001b[0m \u001b[38;5;28mself\u001b[39m\u001b[38;5;241m.\u001b[39mvolatility \u001b[38;5;241m=\u001b[39m \u001b[38;5;28mfloat\u001b[39m(volatility) \u001b[38;5;241m/\u001b[39m \u001b[38;5;241m100\u001b[39m\n\u001b[0;32m    270\u001b[0m \u001b[38;5;28mself\u001b[39m\u001b[38;5;241m.\u001b[39m_a_ \u001b[38;5;241m=\u001b[39m \u001b[38;5;28mself\u001b[39m\u001b[38;5;241m.\u001b[39mvolatility \u001b[38;5;241m*\u001b[39m \u001b[38;5;28mself\u001b[39m\u001b[38;5;241m.\u001b[39mdaysToExpiration\u001b[38;5;241m*\u001b[39m\u001b[38;5;241m*\u001b[39m\u001b[38;5;241m0.5\u001b[39m\n\u001b[1;32m--> 271\u001b[0m \u001b[38;5;28mself\u001b[39m\u001b[38;5;241m.\u001b[39m_d1_ \u001b[38;5;241m=\u001b[39m (log(\u001b[38;5;28mself\u001b[39m\u001b[38;5;241m.\u001b[39munderlyingPrice \u001b[38;5;241m/\u001b[39m \u001b[38;5;28mself\u001b[39m\u001b[38;5;241m.\u001b[39mstrikePrice) \u001b[38;5;241m+\u001b[39m \\\n\u001b[0;32m    272\u001b[0m \t\t(\u001b[38;5;28mself\u001b[39m\u001b[38;5;241m.\u001b[39minterestRate \u001b[38;5;241m+\u001b[39m (\u001b[38;5;28mself\u001b[39m\u001b[38;5;241m.\u001b[39mvolatility\u001b[38;5;241m*\u001b[39m\u001b[38;5;241m*\u001b[39m\u001b[38;5;241m2\u001b[39m) \u001b[38;5;241m/\u001b[39m \u001b[38;5;241m2\u001b[39m) \u001b[38;5;241m*\u001b[39m \\\n\u001b[0;32m    273\u001b[0m \t\t\u001b[38;5;28mself\u001b[39m\u001b[38;5;241m.\u001b[39mdaysToExpiration) \u001b[38;5;241m/\u001b[39m \u001b[38;5;28mself\u001b[39m\u001b[38;5;241m.\u001b[39m_a_\n\u001b[0;32m    274\u001b[0m \u001b[38;5;28mself\u001b[39m\u001b[38;5;241m.\u001b[39m_d2_ \u001b[38;5;241m=\u001b[39m \u001b[38;5;28mself\u001b[39m\u001b[38;5;241m.\u001b[39m_d1_ \u001b[38;5;241m-\u001b[39m \u001b[38;5;28mself\u001b[39m\u001b[38;5;241m.\u001b[39m_a_\n\u001b[0;32m    275\u001b[0m \u001b[38;5;28;01mif\u001b[39;00m performance:\n",
      "\u001b[1;31mZeroDivisionError\u001b[0m: float division by zero"
     ]
    }
   ],
   "source": [
    "# Underlying price, strike price, interest rate, days until expiration\n",
    "underlying_price = 1.4565\n",
    "strike_price = 1.45\n",
    "interest_rate = 1\n",
    "days_to_expiration = 0\n",
    "call_price = 0.0359\n",
    "\n",
    "# Creamos un objeto para la opción de compra (call option)\n",
    "c = mibian.BS([underlying_price, strike_price, interest_rate, days_to_expiration], callPrice=call_price)\n",
    "\n",
    "# Obtenemos la volatilidad implícita de la opción de compra\n",
    "implied_volatility = c.impliedVolatility\n"
   ]
  },
  {
   "cell_type": "code",
   "execution_count": 150,
   "metadata": {},
   "outputs": [
    {
     "data": {
      "text/plain": [
       "19.22607421875"
      ]
     },
     "execution_count": 150,
     "metadata": {},
     "output_type": "execute_result"
    }
   ],
   "source": [
    "implied_volatility"
   ]
  }
 ],
 "metadata": {
  "kernelspec": {
   "display_name": "Python 3",
   "language": "python",
   "name": "python3"
  },
  "language_info": {
   "codemirror_mode": {
    "name": "ipython",
    "version": 3
   },
   "file_extension": ".py",
   "mimetype": "text/x-python",
   "name": "python",
   "nbconvert_exporter": "python",
   "pygments_lexer": "ipython3",
   "version": "3.11.5"
  }
 },
 "nbformat": 4,
 "nbformat_minor": 2
}
